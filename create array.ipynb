{
 "cells": [
  {
   "cell_type": "markdown",
   "id": "958e1298",
   "metadata": {},
   "source": [
    "## using list"
   ]
  },
  {
   "cell_type": "code",
   "execution_count": 1,
   "id": "ed9eaa77",
   "metadata": {},
   "outputs": [],
   "source": [
    "import numpy as np"
   ]
  },
  {
   "cell_type": "code",
   "execution_count": 2,
   "id": "e96b4309",
   "metadata": {},
   "outputs": [],
   "source": [
    "l = [1, 2, 4, 5, 6] #this is list\n",
    "array = np.array(l)"
   ]
  },
  {
   "cell_type": "code",
   "execution_count": 3,
   "id": "cd027ae7",
   "metadata": {},
   "outputs": [
    {
     "data": {
      "text/plain": [
       "array([1, 2, 4, 5, 6])"
      ]
     },
     "execution_count": 3,
     "metadata": {},
     "output_type": "execute_result"
    }
   ],
   "source": [
    "array"
   ]
  },
  {
   "cell_type": "markdown",
   "id": "d7b584bf",
   "metadata": {},
   "source": [
    "## or"
   ]
  },
  {
   "cell_type": "code",
   "execution_count": 4,
   "id": "df4c53b2",
   "metadata": {},
   "outputs": [],
   "source": [
    "array = np.array([1, 2, 4, 5, 6])"
   ]
  },
  {
   "cell_type": "code",
   "execution_count": 5,
   "id": "372dbd56",
   "metadata": {},
   "outputs": [
    {
     "data": {
      "text/plain": [
       "array([1, 2, 4, 5, 6])"
      ]
     },
     "execution_count": 5,
     "metadata": {},
     "output_type": "execute_result"
    }
   ],
   "source": [
    "array"
   ]
  },
  {
   "cell_type": "markdown",
   "id": "a3f38c82",
   "metadata": {},
   "source": [
    "## 2d array"
   ]
  },
  {
   "cell_type": "code",
   "execution_count": 6,
   "id": "31be4a7b",
   "metadata": {},
   "outputs": [],
   "source": [
    "array2 = np.array([[10, 20, 30, 40, 50],[1, 3, 5, 6, 8]])"
   ]
  },
  {
   "cell_type": "code",
   "execution_count": 7,
   "id": "c12bcf1b",
   "metadata": {},
   "outputs": [
    {
     "data": {
      "text/plain": [
       "array([[10, 20, 30, 40, 50],\n",
       "       [ 1,  3,  5,  6,  8]])"
      ]
     },
     "execution_count": 7,
     "metadata": {},
     "output_type": "execute_result"
    }
   ],
   "source": [
    "array2"
   ]
  },
  {
   "cell_type": "markdown",
   "id": "2b290c8d",
   "metadata": {},
   "source": [
    "## create an array using builtin functions"
   ]
  },
  {
   "cell_type": "markdown",
   "id": "b55c99e1",
   "metadata": {},
   "source": [
    "# arange()\n",
    "\n",
    "### syntax:- arange([start,] stop[, step,], dtype=None, *, like=None)\n",
    "\n",
    "### def:- create an 1d array of evenly spaced values with in a given interval. it gives integer values.\n",
    "### \n"
   ]
  },
  {
   "cell_type": "markdown",
   "id": "125d1f45",
   "metadata": {},
   "source": [
    "### 1d array"
   ]
  },
  {
   "cell_type": "code",
   "execution_count": 8,
   "id": "b094813a",
   "metadata": {},
   "outputs": [
    {
     "data": {
      "text/plain": [
       "array([0, 1, 2, 3, 4, 5, 6, 7, 8, 9])"
      ]
     },
     "execution_count": 8,
     "metadata": {},
     "output_type": "execute_result"
    }
   ],
   "source": [
    "np.arange(10) "
   ]
  },
  {
   "cell_type": "code",
   "execution_count": 9,
   "id": "a20801df",
   "metadata": {},
   "outputs": [
    {
     "data": {
      "text/plain": [
       "array([1, 2, 3, 4, 5, 6, 7, 8, 9])"
      ]
     },
     "execution_count": 9,
     "metadata": {},
     "output_type": "execute_result"
    }
   ],
   "source": [
    "np.arange(1,10) # start = 1, stop = 10 which is exclusive"
   ]
  },
  {
   "cell_type": "code",
   "execution_count": 10,
   "id": "c4d6438a",
   "metadata": {},
   "outputs": [
    {
     "data": {
      "text/plain": [
       "array([1, 3, 5, 7, 9])"
      ]
     },
     "execution_count": 10,
     "metadata": {},
     "output_type": "execute_result"
    }
   ],
   "source": [
    "np.arange(1,10,2) # start = 1, stop = 10 which is exclusive , step = 2"
   ]
  },
  {
   "cell_type": "code",
   "execution_count": 11,
   "id": "3ac39c24",
   "metadata": {},
   "outputs": [
    {
     "data": {
      "text/plain": [
       "array([0., 1., 2., 3., 4., 5., 6., 7., 8., 9.])"
      ]
     },
     "execution_count": 11,
     "metadata": {},
     "output_type": "execute_result"
    }
   ],
   "source": [
    "np.arange(10, dtype = float) # using dtype = float."
   ]
  },
  {
   "cell_type": "code",
   "execution_count": 12,
   "id": "2db53526",
   "metadata": {},
   "outputs": [
    {
     "data": {
      "text/plain": [
       "array([0.+0.j, 1.+0.j, 2.+0.j, 3.+0.j, 4.+0.j, 5.+0.j, 6.+0.j, 7.+0.j,\n",
       "       8.+0.j, 9.+0.j])"
      ]
     },
     "execution_count": 12,
     "metadata": {},
     "output_type": "execute_result"
    }
   ],
   "source": [
    "np.arange(10, dtype = complex)"
   ]
  },
  {
   "cell_type": "markdown",
   "id": "282fdb0f",
   "metadata": {},
   "source": [
    "# zeros()\n",
    "\n",
    "### syntax:- zeros(shape, dtype=float, order='C', *, like=None)\n",
    "\n",
    "### def :- creates an array filled with zeros. using shape paramete we can create 1d or 2d array.shape parameter is required. it gives float values."
   ]
  },
  {
   "cell_type": "code",
   "execution_count": 13,
   "id": "f0686e57",
   "metadata": {},
   "outputs": [
    {
     "data": {
      "text/plain": [
       "array([0., 0., 0., 0., 0., 0., 0., 0., 0., 0.])"
      ]
     },
     "execution_count": 13,
     "metadata": {},
     "output_type": "execute_result"
    }
   ],
   "source": [
    "np.zeros(10) # 1d array"
   ]
  },
  {
   "cell_type": "code",
   "execution_count": 14,
   "id": "ba004999",
   "metadata": {},
   "outputs": [
    {
     "data": {
      "text/plain": [
       "array([0, 0, 0, 0, 0, 0, 0, 0, 0, 0])"
      ]
     },
     "execution_count": 14,
     "metadata": {},
     "output_type": "execute_result"
    }
   ],
   "source": [
    "np.zeros(10, dtype = int) # 1d array with integre values"
   ]
  },
  {
   "cell_type": "code",
   "execution_count": 15,
   "id": "ba6fc73d",
   "metadata": {},
   "outputs": [
    {
     "data": {
      "text/plain": [
       "array([[0, 0, 0],\n",
       "       [0, 0, 0],\n",
       "       [0, 0, 0],\n",
       "       [0, 0, 0]])"
      ]
     },
     "execution_count": 15,
     "metadata": {},
     "output_type": "execute_result"
    }
   ],
   "source": [
    "# 2d array\n",
    "np.zeros((4,3), dtype = int) # it gives 4 rows 3 coloumns integer values."
   ]
  },
  {
   "cell_type": "markdown",
   "id": "6757a1ae",
   "metadata": {},
   "source": [
    "# ones()\n",
    "### syntax :- np.ones(shape, dtype=None, order='C', *, like=None)\n",
    "### def :- creates an array filled with ones. using shape paramete we can create 1d or 2d array.shape parameter is required. it gives float values."
   ]
  },
  {
   "cell_type": "code",
   "execution_count": 16,
   "id": "10e28142",
   "metadata": {},
   "outputs": [
    {
     "data": {
      "text/plain": [
       "array([1., 1., 1., 1., 1., 1., 1., 1., 1., 1.])"
      ]
     },
     "execution_count": 16,
     "metadata": {},
     "output_type": "execute_result"
    }
   ],
   "source": [
    "np.ones(10) # 1d aray with float values"
   ]
  },
  {
   "cell_type": "code",
   "execution_count": 17,
   "id": "040af1ff",
   "metadata": {},
   "outputs": [
    {
     "data": {
      "text/plain": [
       "array([[1, 1, 1],\n",
       "       [1, 1, 1],\n",
       "       [1, 1, 1]])"
      ]
     },
     "execution_count": 17,
     "metadata": {},
     "output_type": "execute_result"
    }
   ],
   "source": [
    "np.ones((3,3), dtype = int) # 2d array means combination of rows and coloumns(3 rows and 3 coloumns) with integer values"
   ]
  },
  {
   "cell_type": "markdown",
   "id": "4ca84755",
   "metadata": {},
   "source": [
    "# linspace()\n",
    "### syntax :- np.linspace(start, stop, num=50, endpoint=True, retstep=False, dtype=None, axis=0)\n",
    "### def :- create an array filled with evenly spaced values. bydefault it gives 50 values and here endpoint is included."
   ]
  },
  {
   "cell_type": "code",
   "execution_count": 18,
   "id": "1b7247f2",
   "metadata": {},
   "outputs": [
    {
     "data": {
      "text/plain": [
       "array([ 1.        ,  1.18367347,  1.36734694,  1.55102041,  1.73469388,\n",
       "        1.91836735,  2.10204082,  2.28571429,  2.46938776,  2.65306122,\n",
       "        2.83673469,  3.02040816,  3.20408163,  3.3877551 ,  3.57142857,\n",
       "        3.75510204,  3.93877551,  4.12244898,  4.30612245,  4.48979592,\n",
       "        4.67346939,  4.85714286,  5.04081633,  5.2244898 ,  5.40816327,\n",
       "        5.59183673,  5.7755102 ,  5.95918367,  6.14285714,  6.32653061,\n",
       "        6.51020408,  6.69387755,  6.87755102,  7.06122449,  7.24489796,\n",
       "        7.42857143,  7.6122449 ,  7.79591837,  7.97959184,  8.16326531,\n",
       "        8.34693878,  8.53061224,  8.71428571,  8.89795918,  9.08163265,\n",
       "        9.26530612,  9.44897959,  9.63265306,  9.81632653, 10.        ])"
      ]
     },
     "execution_count": 18,
     "metadata": {},
     "output_type": "execute_result"
    }
   ],
   "source": [
    "np.linspace(1,10) # it creates an array filled with evenly spaced values.bydefault it gives 50 values. bcz num = 50 bydefault."
   ]
  },
  {
   "cell_type": "code",
   "execution_count": 19,
   "id": "e2cc33ed",
   "metadata": {},
   "outputs": [
    {
     "data": {
      "text/plain": [
       "array([ 1.  ,  3.25,  5.5 ,  7.75, 10.  ])"
      ]
     },
     "execution_count": 19,
     "metadata": {},
     "output_type": "execute_result"
    }
   ],
   "source": [
    "np.linspace(1,10 , num = 5)  # num = 5 gives 5 evenly spaced values between 1 to 10."
   ]
  },
  {
   "cell_type": "code",
   "execution_count": 20,
   "id": "fae13526",
   "metadata": {},
   "outputs": [
    {
     "data": {
      "text/plain": [
       "array([1. , 2.8, 4.6, 6.4, 8.2])"
      ]
     },
     "execution_count": 20,
     "metadata": {},
     "output_type": "execute_result"
    }
   ],
   "source": [
    "# bydefault endpoint is included but when we use endpoint=False, endpoint is exluded.\n",
    "np.linspace(1,10 , num = 5, endpoint = False) "
   ]
  },
  {
   "cell_type": "code",
   "execution_count": 21,
   "id": "a06a5615",
   "metadata": {},
   "outputs": [
    {
     "data": {
      "text/plain": [
       "(array([1. , 1.9, 2.8, 3.7, 4.6, 5.5, 6.4, 7.3, 8.2, 9.1]), 0.9)"
      ]
     },
     "execution_count": 21,
     "metadata": {},
     "output_type": "execute_result"
    }
   ],
   "source": [
    "# if we want to check diffrence or spacing between each number then use retstep=True. bydefault is is false\n",
    "# diffrence between each number is 0.9\n",
    "np.linspace(1,10 , num = 10, endpoint = False, retstep=True ) "
   ]
  },
  {
   "cell_type": "code",
   "execution_count": 22,
   "id": "8b39ca39",
   "metadata": {},
   "outputs": [
    {
     "data": {
      "text/plain": [
       "(array([1, 1, 2, 3, 4, 5, 6, 7, 8, 9]), 0.9)"
      ]
     },
     "execution_count": 22,
     "metadata": {},
     "output_type": "execute_result"
    }
   ],
   "source": [
    "# if i want int number then use dtype=int \n",
    "\n",
    "np.linspace(1,10 , num = 10, endpoint = False, retstep=True, dtype=int)"
   ]
  },
  {
   "cell_type": "markdown",
   "id": "02454476",
   "metadata": {},
   "source": [
    "\n",
    "# eye()\n",
    "### syntax :- np.eye(N, M=None, k=0, dtype=<class 'float'>, order='C', *, like=None)\n",
    "### def :- creates 2d array filled with zeros except  digonal element.here digonal elements ae equal to 1.\n"
   ]
  },
  {
   "cell_type": "code",
   "execution_count": 23,
   "id": "a4972d63",
   "metadata": {},
   "outputs": [
    {
     "data": {
      "text/plain": [
       "array([[1., 0., 0., 0., 0.],\n",
       "       [0., 1., 0., 0., 0.],\n",
       "       [0., 0., 1., 0., 0.],\n",
       "       [0., 0., 0., 1., 0.],\n",
       "       [0., 0., 0., 0., 1.]])"
      ]
     },
     "execution_count": 23,
     "metadata": {},
     "output_type": "execute_result"
    }
   ],
   "source": [
    "# it will gives 5 rows and 5 coloumns.\n",
    "# here by default dtype = float and k = 0(index of digonal)\n",
    "np.eye(5)"
   ]
  },
  {
   "cell_type": "code",
   "execution_count": 24,
   "id": "09d36a43",
   "metadata": {},
   "outputs": [
    {
     "data": {
      "text/plain": [
       "array([[1., 0., 0., 0., 0.],\n",
       "       [0., 1., 0., 0., 0.],\n",
       "       [0., 0., 1., 0., 0.],\n",
       "       [0., 0., 0., 1., 0.]])"
      ]
     },
     "execution_count": 24,
     "metadata": {},
     "output_type": "execute_result"
    }
   ],
   "source": [
    "# if 1 want 4 rows and 5 columns \n",
    "np.eye(4,5)"
   ]
  },
  {
   "cell_type": "code",
   "execution_count": 25,
   "id": "fd0a21b9",
   "metadata": {},
   "outputs": [
    {
     "data": {
      "text/plain": [
       "array([[1, 0, 0, 0, 0],\n",
       "       [0, 1, 0, 0, 0],\n",
       "       [0, 0, 1, 0, 0],\n",
       "       [0, 0, 0, 1, 0]])"
      ]
     },
     "execution_count": 25,
     "metadata": {},
     "output_type": "execute_result"
    }
   ],
   "source": [
    "# i want integer values \n",
    "np.eye(4,5, dtype = int)"
   ]
  },
  {
   "cell_type": "code",
   "execution_count": 26,
   "id": "bce563dc",
   "metadata": {},
   "outputs": [
    {
     "data": {
      "text/plain": [
       "array([[0, 1, 0, 0, 0],\n",
       "       [0, 0, 1, 0, 0],\n",
       "       [0, 0, 0, 1, 0],\n",
       "       [0, 0, 0, 0, 1]])"
      ]
     },
     "execution_count": 26,
     "metadata": {},
     "output_type": "execute_result"
    }
   ],
   "source": [
    "# use k=1 \n",
    "np.eye(4,5, dtype = int, k=1)"
   ]
  },
  {
   "cell_type": "markdown",
   "id": "9735becb",
   "metadata": {},
   "source": [
    "# identity()\n",
    "### syntax :- np.identity(n, dtype=None)\n",
    "### def :- creates 2d square array filled with zeros except digonal elements.here digonal elements are equal to 1.\n",
    "### it is same as eye() function.by default it gives float values."
   ]
  },
  {
   "cell_type": "code",
   "execution_count": 27,
   "id": "0372bda9",
   "metadata": {},
   "outputs": [
    {
     "data": {
      "text/plain": [
       "array([[1., 0., 0., 0.],\n",
       "       [0., 1., 0., 0.],\n",
       "       [0., 0., 1., 0.],\n",
       "       [0., 0., 0., 1.]])"
      ]
     },
     "execution_count": 27,
     "metadata": {},
     "output_type": "execute_result"
    }
   ],
   "source": [
    "np.identity(4)"
   ]
  },
  {
   "cell_type": "code",
   "execution_count": 28,
   "id": "087d016e",
   "metadata": {},
   "outputs": [
    {
     "data": {
      "text/plain": [
       "array([[1, 0, 0, 0],\n",
       "       [0, 1, 0, 0],\n",
       "       [0, 0, 1, 0],\n",
       "       [0, 0, 0, 1]])"
      ]
     },
     "execution_count": 28,
     "metadata": {},
     "output_type": "execute_result"
    }
   ],
   "source": [
    "np.identity(4, dtype = int)"
   ]
  },
  {
   "cell_type": "markdown",
   "id": "303a037d",
   "metadata": {},
   "source": [
    "# full()\n",
    "### syntax : - np.full(shape, fill_value, dtype=None)\n",
    "### def :- create a new array of given shape and type, filled with `fill_value`."
   ]
  },
  {
   "cell_type": "code",
   "execution_count": 29,
   "id": "a60c7173",
   "metadata": {},
   "outputs": [
    {
     "data": {
      "text/plain": [
       "array([3, 3, 3, 3, 3])"
      ]
     },
     "execution_count": 29,
     "metadata": {},
     "output_type": "execute_result"
    }
   ],
   "source": [
    "# gives 1d array filled with 3\n",
    "np.full(5, fill_value = 3)"
   ]
  },
  {
   "cell_type": "code",
   "execution_count": 30,
   "id": "7e1f4c63",
   "metadata": {},
   "outputs": [
    {
     "data": {
      "text/plain": [
       "array([[3, 3, 3],\n",
       "       [3, 3, 3],\n",
       "       [3, 3, 3],\n",
       "       [3, 3, 3],\n",
       "       [3, 3, 3]])"
      ]
     },
     "execution_count": 30,
     "metadata": {},
     "output_type": "execute_result"
    }
   ],
   "source": [
    "# it gives 5 rows and 3 columns 2d array filled with 3\n",
    "np.full((5,3), fill_value = 3)"
   ]
  },
  {
   "cell_type": "markdown",
   "id": "73875a43",
   "metadata": {},
   "source": [
    "# random()\n",
    "### random is a module in numpy. it gives andom values in a given shape.there are many functions in random.\n",
    "### rand(), randn(), randint(), randchoice(), randseed(), etc\n"
   ]
  },
  {
   "cell_type": "markdown",
   "id": "39e166a3",
   "metadata": {},
   "source": [
    "## np.random.random()\n",
    "### syntax : - np.random.random(size = none)\n",
    "### def :- create array of specified shape filled with random values as per uniform distribution. values will be in [0,1] interval"
   ]
  },
  {
   "cell_type": "code",
   "execution_count": 31,
   "id": "9e7da98d",
   "metadata": {},
   "outputs": [
    {
     "data": {
      "text/plain": [
       "array([0.5289597 , 0.46635661, 0.4817828 , 0.10155429, 0.30916396])"
      ]
     },
     "execution_count": 31,
     "metadata": {},
     "output_type": "execute_result"
    }
   ],
   "source": [
    "# it will gives array of 5 random float values between [0,1] interval.\n",
    "np.random.random(5)"
   ]
  },
  {
   "cell_type": "code",
   "execution_count": 32,
   "id": "edd0f9e8",
   "metadata": {},
   "outputs": [
    {
     "data": {
      "text/plain": [
       "array([[0.89939539, 0.00582572, 0.33052803],\n",
       "       [0.51109621, 0.34852785, 0.18950402],\n",
       "       [0.5942253 , 0.17336303, 0.64297998],\n",
       "       [0.62996272, 0.64662047, 0.33166434],\n",
       "       [0.17419035, 0.16092074, 0.09864026]])"
      ]
     },
     "execution_count": 32,
     "metadata": {},
     "output_type": "execute_result"
    }
   ],
   "source": [
    "# shape = (5,3) means it will give 5 rows and 3 coloumns\n",
    "np.random.random((5,3))"
   ]
  },
  {
   "cell_type": "markdown",
   "id": "b041668a",
   "metadata": {},
   "source": [
    "## np.random.rand()\n",
    "### syntax : - np.random.rand(size = none)\n",
    "### def :- create array of specified shape filled with random values as per uniform distribution. values will be in [0,1] interval¶"
   ]
  },
  {
   "cell_type": "code",
   "execution_count": 33,
   "id": "0e3c7e97",
   "metadata": {},
   "outputs": [
    {
     "data": {
      "text/plain": [
       "array([0.62077684, 0.74021594, 0.18403367, 0.3246012 , 0.5066262 ])"
      ]
     },
     "execution_count": 33,
     "metadata": {},
     "output_type": "execute_result"
    }
   ],
   "source": [
    "# it will gives array of 5 random float values between [0,1] interval.\n",
    "np.random.rand(5)"
   ]
  },
  {
   "cell_type": "code",
   "execution_count": 34,
   "id": "2aaf5cbf",
   "metadata": {},
   "outputs": [
    {
     "data": {
      "text/plain": [
       "array([[0.2278846 , 0.02199282, 0.51301908],\n",
       "       [0.00429239, 0.86551886, 0.15615449],\n",
       "       [0.98045954, 0.41792441, 0.39683323],\n",
       "       [0.48457777, 0.09473141, 0.52803439],\n",
       "       [0.16419508, 0.81984686, 0.6427646 ]])"
      ]
     },
     "execution_count": 34,
     "metadata": {},
     "output_type": "execute_result"
    }
   ],
   "source": [
    "# shape = (5,3) means it will give 5 rows and 3 coloumns\n",
    "np.random.rand(5,3)"
   ]
  },
  {
   "cell_type": "code",
   "execution_count": 35,
   "id": "bc213d1f",
   "metadata": {},
   "outputs": [
    {
     "data": {
      "text/plain": [
       "array([[[0.55299544, 0.1103178 , 0.21918722],\n",
       "        [0.99915943, 0.18568823, 0.69111684]],\n",
       "\n",
       "       [[0.22096215, 0.08150009, 0.085112  ],\n",
       "        [0.41928801, 0.44488536, 0.96241934]],\n",
       "\n",
       "       [[0.40944904, 0.3167509 , 0.489704  ],\n",
       "        [0.96529417, 0.60225132, 0.39412057]],\n",
       "\n",
       "       [[0.21000049, 0.67090631, 0.76422259],\n",
       "        [0.88183097, 0.37127002, 0.10910493]]])"
      ]
     },
     "execution_count": 35,
     "metadata": {},
     "output_type": "execute_result"
    }
   ],
   "source": [
    "np.random.rand(4,2,3)"
   ]
  },
  {
   "cell_type": "markdown",
   "id": "6a4c6ee6",
   "metadata": {},
   "source": [
    "# randint()\n",
    "### syntax :- np.random.randint(low, high=None, size=None, dtype=int)\n",
    "### def :- creates array of specified shape filled with random integers from low (inclusive) to high (exclusive).if high is not mensioned then interval will be [0, low]"
   ]
  },
  {
   "cell_type": "code",
   "execution_count": 36,
   "id": "55866b3e",
   "metadata": {},
   "outputs": [
    {
     "data": {
      "text/plain": [
       "array([2, 3, 0, 2])"
      ]
     },
     "execution_count": 36,
     "metadata": {},
     "output_type": "execute_result"
    }
   ],
   "source": [
    "# create 1d array (bcz size  = 4) filled with random integers from 0 to 4 (low is 5 and high is not mensioned)\n",
    "np.random.randint(5, size = 4)"
   ]
  },
  {
   "cell_type": "code",
   "execution_count": 37,
   "id": "40b7fe7b",
   "metadata": {},
   "outputs": [
    {
     "data": {
      "text/plain": [
       "array([9, 7, 7, 7])"
      ]
     },
     "execution_count": 37,
     "metadata": {},
     "output_type": "execute_result"
    }
   ],
   "source": [
    "# create 1d array (bcz size  = 4) filled with random integers from low = 5 to high = 10 (exclusive)\n",
    "np.random.randint(5, 10, size = 4)"
   ]
  },
  {
   "cell_type": "code",
   "execution_count": 38,
   "id": "226b36d5",
   "metadata": {},
   "outputs": [
    {
     "data": {
      "text/plain": [
       "array([[8, 5, 5],\n",
       "       [6, 7, 8],\n",
       "       [8, 6, 9],\n",
       "       [7, 8, 9]])"
      ]
     },
     "execution_count": 38,
     "metadata": {},
     "output_type": "execute_result"
    }
   ],
   "source": [
    "# create 2d array (bcz size  = (4,3)) filled with random integers from low = 5 to high = 10 (exclusive)\n",
    "np.random.randint(5, 10, size = (4,3))"
   ]
  },
  {
   "cell_type": "markdown",
   "id": "b5985f4f",
   "metadata": {},
   "source": [
    "# randn()\n",
    "### syntax : - np.random.rand(shape)\n",
    "### def :- create array of specified shape filled with random values as per \"standard normal\" distribution."
   ]
  },
  {
   "cell_type": "code",
   "execution_count": 39,
   "id": "5767a768",
   "metadata": {},
   "outputs": [
    {
     "data": {
      "text/plain": [
       "array([-0.79669137,  0.05833213,  0.34214993,  0.35793253,  1.20455513,\n",
       "       -0.49148493])"
      ]
     },
     "execution_count": 39,
     "metadata": {},
     "output_type": "execute_result"
    }
   ],
   "source": [
    "np.random.randn(6)"
   ]
  },
  {
   "cell_type": "code",
   "execution_count": 40,
   "id": "31503f0e",
   "metadata": {},
   "outputs": [
    {
     "data": {
      "text/plain": [
       "array([[-0.87615376, -0.11781636],\n",
       "       [ 1.98284862,  0.98207699],\n",
       "       [ 1.89702962, -0.9306538 ],\n",
       "       [-0.63692382,  0.3802688 ],\n",
       "       [-0.83035719,  1.96510535],\n",
       "       [-0.58416746,  0.22940375]])"
      ]
     },
     "execution_count": 40,
     "metadata": {},
     "output_type": "execute_result"
    }
   ],
   "source": [
    "np.random.randn(6 ,2)"
   ]
  },
  {
   "cell_type": "code",
   "execution_count": 41,
   "id": "b8ad065c",
   "metadata": {},
   "outputs": [],
   "source": [
    "d = np.arange(16).reshape(4,4)"
   ]
  },
  {
   "cell_type": "code",
   "execution_count": 42,
   "id": "061f9701",
   "metadata": {},
   "outputs": [
    {
     "data": {
      "text/plain": [
       "array([[ 0,  1,  2,  3],\n",
       "       [ 4,  5,  6,  7],\n",
       "       [ 8,  9, 10, 11],\n",
       "       [12, 13, 14, 15]])"
      ]
     },
     "execution_count": 42,
     "metadata": {},
     "output_type": "execute_result"
    }
   ],
   "source": [
    "d"
   ]
  },
  {
   "cell_type": "code",
   "execution_count": 43,
   "id": "66d6524b",
   "metadata": {},
   "outputs": [
    {
     "data": {
      "text/plain": [
       "array([[ True, False, False],\n",
       "       [False,  True, False],\n",
       "       [False, False,  True]])"
      ]
     },
     "execution_count": 43,
     "metadata": {},
     "output_type": "execute_result"
    }
   ],
   "source": [
    "np.diag([True,True,True])"
   ]
  },
  {
   "cell_type": "code",
   "execution_count": 50,
   "id": "0e8bbb06",
   "metadata": {},
   "outputs": [
    {
     "data": {
      "text/plain": [
       "array([[1, 0, 0],\n",
       "       [0, 2, 0],\n",
       "       [0, 0, 3]])"
      ]
     },
     "execution_count": 50,
     "metadata": {},
     "output_type": "execute_result"
    }
   ],
   "source": [
    "np.diag([1,2,3])"
   ]
  },
  {
   "cell_type": "code",
   "execution_count": 52,
   "id": "83697cc7",
   "metadata": {},
   "outputs": [
    {
     "data": {
      "text/plain": [
       "array([[2, 2, 2],\n",
       "       [2, 2, 2],\n",
       "       [2, 2, 2]])"
      ]
     },
     "execution_count": 52,
     "metadata": {},
     "output_type": "execute_result"
    }
   ],
   "source": [
    "np.full((3,3),2)"
   ]
  },
  {
   "cell_type": "code",
   "execution_count": 53,
   "id": "ec3debc1",
   "metadata": {},
   "outputs": [
    {
     "data": {
      "text/plain": [
       "array([[3, 2, 2],\n",
       "       [2, 4, 2],\n",
       "       [2, 2, 5]])"
      ]
     },
     "execution_count": 53,
     "metadata": {},
     "output_type": "execute_result"
    }
   ],
   "source": [
    "np.full((3,3),2) + np.diag([1,2,3])"
   ]
  }
 ],
 "metadata": {
  "kernelspec": {
   "display_name": "Python 3 (ipykernel)",
   "language": "python",
   "name": "python3"
  },
  "language_info": {
   "codemirror_mode": {
    "name": "ipython",
    "version": 3
   },
   "file_extension": ".py",
   "mimetype": "text/x-python",
   "name": "python",
   "nbconvert_exporter": "python",
   "pygments_lexer": "ipython3",
   "version": "3.9.7"
  }
 },
 "nbformat": 4,
 "nbformat_minor": 5
}
