{
 "cells": [
  {
   "cell_type": "code",
   "execution_count": 1,
   "id": "d3e67c99",
   "metadata": {},
   "outputs": [],
   "source": [
    "import numpy as np"
   ]
  },
  {
   "cell_type": "code",
   "execution_count": 2,
   "id": "fa99cf13",
   "metadata": {},
   "outputs": [],
   "source": [
    "# create an array\n",
    "a = np.arange(1,10).reshape(3,3)"
   ]
  },
  {
   "cell_type": "code",
   "execution_count": 3,
   "id": "e6b1fac6",
   "metadata": {},
   "outputs": [
    {
     "data": {
      "text/plain": [
       "array([[1, 2, 3],\n",
       "       [4, 5, 6],\n",
       "       [7, 8, 9]])"
      ]
     },
     "execution_count": 3,
     "metadata": {},
     "output_type": "execute_result"
    }
   ],
   "source": [
    "a"
   ]
  },
  {
   "cell_type": "code",
   "execution_count": 4,
   "id": "078bcff2",
   "metadata": {},
   "outputs": [],
   "source": [
    "b  =  np.arange(1,10).reshape(3,3)"
   ]
  },
  {
   "cell_type": "code",
   "execution_count": 5,
   "id": "bc07973c",
   "metadata": {},
   "outputs": [
    {
     "data": {
      "text/plain": [
       "array([[1, 2, 3],\n",
       "       [4, 5, 6],\n",
       "       [7, 8, 9]])"
      ]
     },
     "execution_count": 5,
     "metadata": {},
     "output_type": "execute_result"
    }
   ],
   "source": [
    "b"
   ]
  },
  {
   "cell_type": "code",
   "execution_count": 6,
   "id": "3b741ed9",
   "metadata": {},
   "outputs": [],
   "source": [
    "c = np.arange(1,7).reshape(2,3)"
   ]
  },
  {
   "cell_type": "code",
   "execution_count": 7,
   "id": "faf755b3",
   "metadata": {},
   "outputs": [
    {
     "data": {
      "text/plain": [
       "array([[1, 2, 3],\n",
       "       [4, 5, 6]])"
      ]
     },
     "execution_count": 7,
     "metadata": {},
     "output_type": "execute_result"
    }
   ],
   "source": [
    "c"
   ]
  },
  {
   "cell_type": "markdown",
   "id": "24debfad",
   "metadata": {},
   "source": [
    "# add()\n",
    "### syntax : - add(x1,x2)          here x1,x2 ae the arrays to be added.\n",
    "### add method is used to add arrays element-wise.when we perfom add() function on array,we make sure that array will be have in the same shape.\n",
    "### it returns reflection . original array will not change."
   ]
  },
  {
   "cell_type": "code",
   "execution_count": 8,
   "id": "916b34ef",
   "metadata": {},
   "outputs": [
    {
     "data": {
      "text/plain": [
       "array([[ 2,  4,  6],\n",
       "       [ 8, 10, 12],\n",
       "       [14, 16, 18]])"
      ]
     },
     "execution_count": 8,
     "metadata": {},
     "output_type": "execute_result"
    }
   ],
   "source": [
    "np.add(a,b)"
   ]
  },
  {
   "cell_type": "code",
   "execution_count": 9,
   "id": "126e20e1",
   "metadata": {},
   "outputs": [
    {
     "data": {
      "text/plain": [
       "array([[11, 12, 13],\n",
       "       [14, 15, 16],\n",
       "       [17, 18, 19]])"
      ]
     },
     "execution_count": 9,
     "metadata": {},
     "output_type": "execute_result"
    }
   ],
   "source": [
    "np.add(a,10)"
   ]
  },
  {
   "cell_type": "code",
   "execution_count": 10,
   "id": "67d11753",
   "metadata": {},
   "outputs": [
    {
     "data": {
      "text/plain": [
       "array([[1, 2, 3],\n",
       "       [4, 5, 6],\n",
       "       [7, 8, 9]])"
      ]
     },
     "execution_count": 10,
     "metadata": {},
     "output_type": "execute_result"
    }
   ],
   "source": [
    "a"
   ]
  },
  {
   "cell_type": "markdown",
   "id": "02abccfd",
   "metadata": {},
   "source": [
    "# append()\n",
    "### syntax :- np.append(arr, values, axis=None)\n",
    "### def : - Append values to the end of an array.original array will not change."
   ]
  },
  {
   "cell_type": "markdown",
   "id": "1ee9a4b9",
   "metadata": {},
   "source": [
    "## 1d array"
   ]
  },
  {
   "cell_type": "code",
   "execution_count": 11,
   "id": "62e132f0",
   "metadata": {},
   "outputs": [],
   "source": [
    "d = np.arange(8)"
   ]
  },
  {
   "cell_type": "code",
   "execution_count": 12,
   "id": "69ea7955",
   "metadata": {},
   "outputs": [
    {
     "data": {
      "text/plain": [
       "array([0, 1, 2, 3, 4, 5, 6, 7])"
      ]
     },
     "execution_count": 12,
     "metadata": {},
     "output_type": "execute_result"
    }
   ],
   "source": [
    "d"
   ]
  },
  {
   "cell_type": "code",
   "execution_count": 13,
   "id": "15ddf3da",
   "metadata": {},
   "outputs": [
    {
     "data": {
      "text/plain": [
       "array([  0,   1,   2,   3,   4,   5,   6,   7, 100])"
      ]
     },
     "execution_count": 13,
     "metadata": {},
     "output_type": "execute_result"
    }
   ],
   "source": [
    "# if we have 1d array it will append values at the end of an array.\n",
    "np.append(d,100)"
   ]
  },
  {
   "cell_type": "code",
   "execution_count": 14,
   "id": "5bea9987",
   "metadata": {},
   "outputs": [
    {
     "data": {
      "text/plain": [
       "array([  0,   1,   2,   3,   4,   5,   6,   7, 100, 200])"
      ]
     },
     "execution_count": 14,
     "metadata": {},
     "output_type": "execute_result"
    }
   ],
   "source": [
    "# if we want to append multiple values at the end of an array we have to pass list or tuple of that values.\n",
    "np.append(d,[100,200])"
   ]
  },
  {
   "cell_type": "code",
   "execution_count": 15,
   "id": "ecd09441",
   "metadata": {},
   "outputs": [
    {
     "data": {
      "text/plain": [
       "array([0, 1, 2, 3, 4, 5, 6, 7])"
      ]
     },
     "execution_count": 15,
     "metadata": {},
     "output_type": "execute_result"
    }
   ],
   "source": [
    "# d remains same .\n",
    "d "
   ]
  },
  {
   "cell_type": "markdown",
   "id": "2bdf5a15",
   "metadata": {},
   "source": [
    "## 2d array"
   ]
  },
  {
   "cell_type": "code",
   "execution_count": 16,
   "id": "026a42dd",
   "metadata": {},
   "outputs": [
    {
     "data": {
      "text/plain": [
       "array([[1, 2, 3],\n",
       "       [4, 5, 6]])"
      ]
     },
     "execution_count": 16,
     "metadata": {},
     "output_type": "execute_result"
    }
   ],
   "source": [
    "c"
   ]
  },
  {
   "cell_type": "code",
   "execution_count": 17,
   "id": "72fe906f",
   "metadata": {},
   "outputs": [
    {
     "data": {
      "text/plain": [
       "array([  1,   2,   3,   4,   5,   6, 100])"
      ]
     },
     "execution_count": 17,
     "metadata": {},
     "output_type": "execute_result"
    }
   ],
   "source": [
    "# if we pass single value in 2d array ,it will convert array in 1d and append value at the end of an array.\n",
    "np.append(c,100)"
   ]
  },
  {
   "cell_type": "code",
   "execution_count": 18,
   "id": "0c646f0b",
   "metadata": {},
   "outputs": [
    {
     "data": {
      "text/plain": [
       "array([[  1,   2,   3],\n",
       "       [  4,   5,   6],\n",
       "       [100, 200, 300]])"
      ]
     },
     "execution_count": 18,
     "metadata": {},
     "output_type": "execute_result"
    }
   ],
   "source": [
    "np.append(c,[[100,200,300]],axis = 0) # if we want to append row then use axis = 0"
   ]
  },
  {
   "cell_type": "code",
   "execution_count": 19,
   "id": "664fe079",
   "metadata": {},
   "outputs": [
    {
     "data": {
      "text/plain": [
       "array([[  1,   2,   3, 100],\n",
       "       [  4,   5,   6, 200]])"
      ]
     },
     "execution_count": 19,
     "metadata": {},
     "output_type": "execute_result"
    }
   ],
   "source": [
    "np.append(c,[[100],[200]], axis = 1) # if we want to append coloumn then use axis = 1"
   ]
  },
  {
   "cell_type": "code",
   "execution_count": 20,
   "id": "c95e5bee",
   "metadata": {},
   "outputs": [
    {
     "data": {
      "text/plain": [
       "array([[1, 2, 3],\n",
       "       [4, 5, 6]])"
      ]
     },
     "execution_count": 20,
     "metadata": {},
     "output_type": "execute_result"
    }
   ],
   "source": [
    "c"
   ]
  },
  {
   "cell_type": "markdown",
   "id": "7bce8eab",
   "metadata": {},
   "source": [
    "# insert()\n",
    "### syntax :- np.insert(arr, index, values, axis=None)\n",
    "### def :- Insert values along the given axis before the given indices."
   ]
  },
  {
   "cell_type": "code",
   "execution_count": 21,
   "id": "4884de39",
   "metadata": {},
   "outputs": [
    {
     "data": {
      "text/plain": [
       "array([100,   1,   2,   3,   4,   5,   6])"
      ]
     },
     "execution_count": 21,
     "metadata": {},
     "output_type": "execute_result"
    }
   ],
   "source": [
    "# if we do not provide axis parameter it will convert array in 1d and  insert values at specified index. \n",
    "# if we provide single value.\n",
    "np.insert(c,0,100)"
   ]
  },
  {
   "cell_type": "code",
   "execution_count": 22,
   "id": "568aa48a",
   "metadata": {},
   "outputs": [
    {
     "data": {
      "text/plain": [
       "array([100, 200,   1,   2,   3,   4,   5,   6])"
      ]
     },
     "execution_count": 22,
     "metadata": {},
     "output_type": "execute_result"
    }
   ],
   "source": [
    "np.insert(c,0,(100,200)) # we can provide tuple"
   ]
  },
  {
   "cell_type": "code",
   "execution_count": 23,
   "id": "dced27f1",
   "metadata": {},
   "outputs": [
    {
     "data": {
      "text/plain": [
       "array([100, 200,   1,   2,   3,   4,   5,   6])"
      ]
     },
     "execution_count": 23,
     "metadata": {},
     "output_type": "execute_result"
    }
   ],
   "source": [
    "np.insert(c,0,[100,200]) # also we can provide list"
   ]
  },
  {
   "cell_type": "code",
   "execution_count": 24,
   "id": "588b3a41",
   "metadata": {},
   "outputs": [
    {
     "data": {
      "text/plain": [
       "array([[1, 2, 3],\n",
       "       [4, 5, 6]])"
      ]
     },
     "execution_count": 24,
     "metadata": {},
     "output_type": "execute_result"
    }
   ],
   "source": [
    "c # original array will not change"
   ]
  },
  {
   "cell_type": "code",
   "execution_count": 25,
   "id": "0cf689e2",
   "metadata": {},
   "outputs": [
    {
     "data": {
      "text/plain": [
       "array([[  1,   2,   3],\n",
       "       [100, 100, 100],\n",
       "       [  4,   5,   6]])"
      ]
     },
     "execution_count": 25,
     "metadata": {},
     "output_type": "execute_result"
    }
   ],
   "source": [
    "np.insert(c,1,100,axis = 0)"
   ]
  },
  {
   "cell_type": "code",
   "execution_count": 26,
   "id": "edff1563",
   "metadata": {},
   "outputs": [
    {
     "data": {
      "text/plain": [
       "array([[  1,   2,   3],\n",
       "       [100, 200, 300],\n",
       "       [  4,   5,   6]])"
      ]
     },
     "execution_count": 26,
     "metadata": {},
     "output_type": "execute_result"
    }
   ],
   "source": [
    "np.insert(c,1,(100,200,300),axis = 0) # use tuple"
   ]
  },
  {
   "cell_type": "code",
   "execution_count": 27,
   "id": "cbd70ebe",
   "metadata": {},
   "outputs": [
    {
     "data": {
      "text/plain": [
       "array([[  1,   2,   3],\n",
       "       [100, 200, 300],\n",
       "       [  4,   5,   6]])"
      ]
     },
     "execution_count": 27,
     "metadata": {},
     "output_type": "execute_result"
    }
   ],
   "source": [
    "np.insert(c,1,[100,200,300],axis = 0) # use list"
   ]
  },
  {
   "cell_type": "code",
   "execution_count": 28,
   "id": "db2cabf9",
   "metadata": {},
   "outputs": [
    {
     "data": {
      "text/plain": [
       "array([[  1, 100,   2,   3],\n",
       "       [  4, 100,   5,   6]])"
      ]
     },
     "execution_count": 28,
     "metadata": {},
     "output_type": "execute_result"
    }
   ],
   "source": [
    "np.insert(c,1,100,axis = 1) # if axis = 1 it will insert coloumn that value is 100"
   ]
  },
  {
   "cell_type": "code",
   "execution_count": 29,
   "id": "cc78324d",
   "metadata": {},
   "outputs": [
    {
     "data": {
      "text/plain": [
       "array([[  1, 100,   2,   3],\n",
       "       [  4, 200,   5,   6]])"
      ]
     },
     "execution_count": 29,
     "metadata": {},
     "output_type": "execute_result"
    }
   ],
   "source": [
    "np.insert(c,1,(100,200),axis = 1) # using tuple"
   ]
  },
  {
   "cell_type": "code",
   "execution_count": 30,
   "id": "d131655c",
   "metadata": {},
   "outputs": [
    {
     "data": {
      "text/plain": [
       "array([[  1, 100,   2,   3],\n",
       "       [  4, 200,   5,   6]])"
      ]
     },
     "execution_count": 30,
     "metadata": {},
     "output_type": "execute_result"
    }
   ],
   "source": [
    "np.insert(c,1,[100,200],axis = 1) # using list"
   ]
  },
  {
   "cell_type": "code",
   "execution_count": 31,
   "id": "71e90d44",
   "metadata": {},
   "outputs": [
    {
     "data": {
      "text/plain": [
       "array([[  1,   2, 100,   3],\n",
       "       [  4,   5, 200,   6]])"
      ]
     },
     "execution_count": 31,
     "metadata": {},
     "output_type": "execute_result"
    }
   ],
   "source": [
    "#Assignment: insert values 100,200,columwise at index 2 ( btwn 3 and 5)\n",
    "np.insert(c,2,(100,200), axis = 1)"
   ]
  },
  {
   "cell_type": "markdown",
   "id": "44f9f47f",
   "metadata": {},
   "source": [
    "# delete()\n",
    "### syntax :- np.delete(arr, index, axis=None)\n",
    "### def :- delete values along the given axis and indices.original array will not change"
   ]
  },
  {
   "cell_type": "code",
   "execution_count": 32,
   "id": "f62b2f59",
   "metadata": {},
   "outputs": [
    {
     "data": {
      "text/plain": [
       "array([[1, 2, 3],\n",
       "       [4, 5, 6]])"
      ]
     },
     "execution_count": 32,
     "metadata": {},
     "output_type": "execute_result"
    }
   ],
   "source": [
    "c"
   ]
  },
  {
   "cell_type": "code",
   "execution_count": 33,
   "id": "b4eadc42",
   "metadata": {},
   "outputs": [
    {
     "data": {
      "text/plain": [
       "array([1, 3, 4, 5, 6])"
      ]
     },
     "execution_count": 33,
     "metadata": {},
     "output_type": "execute_result"
    }
   ],
   "source": [
    "np.delete(c,1) # deleted 1th index value."
   ]
  },
  {
   "cell_type": "code",
   "execution_count": 34,
   "id": "e84ff416",
   "metadata": {},
   "outputs": [
    {
     "data": {
      "text/plain": [
       "array([[1, 2, 3],\n",
       "       [4, 5, 6]])"
      ]
     },
     "execution_count": 34,
     "metadata": {},
     "output_type": "execute_result"
    }
   ],
   "source": [
    "c"
   ]
  },
  {
   "cell_type": "code",
   "execution_count": 35,
   "id": "a20bd328",
   "metadata": {},
   "outputs": [
    {
     "data": {
      "text/plain": [
       "array([[1, 2, 3]])"
      ]
     },
     "execution_count": 35,
     "metadata": {},
     "output_type": "execute_result"
    }
   ],
   "source": [
    "np.delete(c,1,axis = 0) # delete 1th row"
   ]
  },
  {
   "cell_type": "code",
   "execution_count": 36,
   "id": "6c505ac8",
   "metadata": {},
   "outputs": [
    {
     "data": {
      "text/plain": [
       "array([[1, 3],\n",
       "       [4, 6]])"
      ]
     },
     "execution_count": 36,
     "metadata": {},
     "output_type": "execute_result"
    }
   ],
   "source": [
    "np.delete(c,1,axis = 1) # delete 1th coloumn"
   ]
  },
  {
   "cell_type": "code",
   "execution_count": 37,
   "id": "088a2a39",
   "metadata": {},
   "outputs": [
    {
     "data": {
      "text/plain": [
       "array([[1, 2, 3],\n",
       "       [4, 5, 6]])"
      ]
     },
     "execution_count": 37,
     "metadata": {},
     "output_type": "execute_result"
    }
   ],
   "source": [
    "c"
   ]
  },
  {
   "cell_type": "code",
   "execution_count": null,
   "id": "e02430e2",
   "metadata": {},
   "outputs": [],
   "source": []
  }
 ],
 "metadata": {
  "kernelspec": {
   "display_name": "Python 3 (ipykernel)",
   "language": "python",
   "name": "python3"
  },
  "language_info": {
   "codemirror_mode": {
    "name": "ipython",
    "version": 3
   },
   "file_extension": ".py",
   "mimetype": "text/x-python",
   "name": "python",
   "nbconvert_exporter": "python",
   "pygments_lexer": "ipython3",
   "version": "3.9.7"
  }
 },
 "nbformat": 4,
 "nbformat_minor": 5
}
