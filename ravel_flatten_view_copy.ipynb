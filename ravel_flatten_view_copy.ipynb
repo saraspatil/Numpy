{
 "cells": [
  {
   "cell_type": "code",
   "execution_count": 1,
   "id": "4e267919",
   "metadata": {},
   "outputs": [],
   "source": [
    "import numpy as np"
   ]
  },
  {
   "cell_type": "markdown",
   "id": "83f4bdd5",
   "metadata": {},
   "source": [
    "### We have two similar kind of ways to convert a ndarray to 1D array : ravel() and Flatten() \n",
    "## diffrence between ravel() and flatten()\n",
    "## a.ravel():\n",
    "### (i) Return only reference/view of original array\n",
    "### (ii) If you modify the array you would notice that the value of original array also changes.\n",
    "### (iii) Ravel is faster than flatten() as it does not occupy any memory.\n",
    "### (iv) Ravel is a library-level function.\n",
    "\n",
    "## a.flatten() :\n",
    "### (i) Return copy of original array\n",
    "### (ii) If you modify any value of this array value of original array is not affected.\n",
    "### (iii) Flatten() is comparatively slower than ravel() as it occupies memory.\n",
    "### (iv) Flatten is a method of an ndarray object.\n"
   ]
  },
  {
   "cell_type": "markdown",
   "id": "b79afc5d",
   "metadata": {},
   "source": [
    "## ravel(order) \n"
   ]
  },
  {
   "cell_type": "code",
   "execution_count": 2,
   "id": "a8b0950c",
   "metadata": {},
   "outputs": [],
   "source": [
    "a = np.array( [ (1,7,3,4),(3,2,4,1) ] )\n"
   ]
  },
  {
   "cell_type": "code",
   "execution_count": 3,
   "id": "475f717e",
   "metadata": {},
   "outputs": [
    {
     "data": {
      "text/plain": [
       "array([[1, 7, 3, 4],\n",
       "       [3, 2, 4, 1]])"
      ]
     },
     "execution_count": 3,
     "metadata": {},
     "output_type": "execute_result"
    }
   ],
   "source": [
    "a"
   ]
  },
  {
   "cell_type": "code",
   "execution_count": 4,
   "id": "a749fa05",
   "metadata": {},
   "outputs": [
    {
     "data": {
      "text/plain": [
       "array([1, 7, 3, 4, 3, 2, 4, 1])"
      ]
     },
     "execution_count": 4,
     "metadata": {},
     "output_type": "execute_result"
    }
   ],
   "source": [
    "a.ravel() # bydefault order = 'c' rowwise elements"
   ]
  },
  {
   "cell_type": "code",
   "execution_count": 5,
   "id": "3114c19e",
   "metadata": {},
   "outputs": [
    {
     "data": {
      "text/plain": [
       "array([1, 3, 7, 2, 3, 4, 4, 1])"
      ]
     },
     "execution_count": 5,
     "metadata": {},
     "output_type": "execute_result"
    }
   ],
   "source": [
    "a.ravel('f') # here order = 'f' coloumn wise elements"
   ]
  },
  {
   "cell_type": "code",
   "execution_count": 6,
   "id": "65e04578",
   "metadata": {},
   "outputs": [],
   "source": [
    "b = a.ravel() # create view of a"
   ]
  },
  {
   "cell_type": "code",
   "execution_count": 7,
   "id": "e9a6248f",
   "metadata": {},
   "outputs": [
    {
     "data": {
      "text/plain": [
       "array([1, 7, 3, 4, 3, 2, 4, 1])"
      ]
     },
     "execution_count": 7,
     "metadata": {},
     "output_type": "execute_result"
    }
   ],
   "source": [
    "b"
   ]
  },
  {
   "cell_type": "code",
   "execution_count": 8,
   "id": "2f9c002e",
   "metadata": {},
   "outputs": [],
   "source": [
    "b[1] = 700 # if we make any change in b ,a will also change."
   ]
  },
  {
   "cell_type": "code",
   "execution_count": 9,
   "id": "b518dcbd",
   "metadata": {},
   "outputs": [
    {
     "data": {
      "text/plain": [
       "array([  1, 700,   3,   4,   3,   2,   4,   1])"
      ]
     },
     "execution_count": 9,
     "metadata": {},
     "output_type": "execute_result"
    }
   ],
   "source": [
    "b"
   ]
  },
  {
   "cell_type": "code",
   "execution_count": 10,
   "id": "3288efc9",
   "metadata": {},
   "outputs": [
    {
     "data": {
      "text/plain": [
       "array([[  1, 700,   3,   4],\n",
       "       [  3,   2,   4,   1]])"
      ]
     },
     "execution_count": 10,
     "metadata": {},
     "output_type": "execute_result"
    }
   ],
   "source": [
    "a"
   ]
  },
  {
   "cell_type": "markdown",
   "id": "b20d3bc8",
   "metadata": {},
   "source": [
    "## flatten(order) "
   ]
  },
  {
   "cell_type": "code",
   "execution_count": 11,
   "id": "b3c74493",
   "metadata": {},
   "outputs": [],
   "source": [
    "f = np.arange(1,21).reshape(5,4)"
   ]
  },
  {
   "cell_type": "code",
   "execution_count": 12,
   "id": "5118bcf1",
   "metadata": {},
   "outputs": [
    {
     "data": {
      "text/plain": [
       "array([[ 1,  2,  3,  4],\n",
       "       [ 5,  6,  7,  8],\n",
       "       [ 9, 10, 11, 12],\n",
       "       [13, 14, 15, 16],\n",
       "       [17, 18, 19, 20]])"
      ]
     },
     "execution_count": 12,
     "metadata": {},
     "output_type": "execute_result"
    }
   ],
   "source": [
    "f"
   ]
  },
  {
   "cell_type": "code",
   "execution_count": 13,
   "id": "6df499e7",
   "metadata": {},
   "outputs": [
    {
     "data": {
      "text/plain": [
       "array([ 1,  2,  3,  4,  5,  6,  7,  8,  9, 10, 11, 12, 13, 14, 15, 16, 17,\n",
       "       18, 19, 20])"
      ]
     },
     "execution_count": 13,
     "metadata": {},
     "output_type": "execute_result"
    }
   ],
   "source": [
    "f.flatten() # bydefault order = 'c' row wise elements"
   ]
  },
  {
   "cell_type": "code",
   "execution_count": 14,
   "id": "7b52bf93",
   "metadata": {},
   "outputs": [
    {
     "data": {
      "text/plain": [
       "array([ 1,  5,  9, 13, 17,  2,  6, 10, 14, 18,  3,  7, 11, 15, 19,  4,  8,\n",
       "       12, 16, 20])"
      ]
     },
     "execution_count": 14,
     "metadata": {},
     "output_type": "execute_result"
    }
   ],
   "source": [
    "f.flatten('f') # here order = 'f' , coloumn wise elements"
   ]
  },
  {
   "cell_type": "code",
   "execution_count": 15,
   "id": "6d309e36",
   "metadata": {},
   "outputs": [
    {
     "data": {
      "text/plain": [
       "array([[ 1,  2,  3,  4],\n",
       "       [ 5,  6,  7,  8],\n",
       "       [ 9, 10, 11, 12],\n",
       "       [13, 14, 15, 16],\n",
       "       [17, 18, 19, 20]])"
      ]
     },
     "execution_count": 15,
     "metadata": {},
     "output_type": "execute_result"
    }
   ],
   "source": [
    "f"
   ]
  },
  {
   "cell_type": "code",
   "execution_count": 16,
   "id": "0a985ac6",
   "metadata": {},
   "outputs": [],
   "source": [
    "s = f.flatten() # create a copy of a"
   ]
  },
  {
   "cell_type": "code",
   "execution_count": 17,
   "id": "a529b225",
   "metadata": {},
   "outputs": [
    {
     "data": {
      "text/plain": [
       "array([ 1,  2,  3,  4,  5,  6,  7,  8,  9, 10, 11, 12, 13, 14, 15, 16, 17,\n",
       "       18, 19, 20])"
      ]
     },
     "execution_count": 17,
     "metadata": {},
     "output_type": "execute_result"
    }
   ],
   "source": [
    "s"
   ]
  },
  {
   "cell_type": "code",
   "execution_count": 18,
   "id": "948e50ee",
   "metadata": {},
   "outputs": [],
   "source": [
    "s[2] = 2000 # if we make any change in s , original array will not affected.0 "
   ]
  },
  {
   "cell_type": "code",
   "execution_count": 19,
   "id": "0f572e55",
   "metadata": {},
   "outputs": [
    {
     "data": {
      "text/plain": [
       "array([   1,    2, 2000,    4,    5,    6,    7,    8,    9,   10,   11,\n",
       "         12,   13,   14,   15,   16,   17,   18,   19,   20])"
      ]
     },
     "execution_count": 19,
     "metadata": {},
     "output_type": "execute_result"
    }
   ],
   "source": [
    "s"
   ]
  },
  {
   "cell_type": "code",
   "execution_count": 20,
   "id": "5d65e0b3",
   "metadata": {},
   "outputs": [
    {
     "data": {
      "text/plain": [
       "array([[ 1,  2,  3,  4],\n",
       "       [ 5,  6,  7,  8],\n",
       "       [ 9, 10, 11, 12],\n",
       "       [13, 14, 15, 16],\n",
       "       [17, 18, 19, 20]])"
      ]
     },
     "execution_count": 20,
     "metadata": {},
     "output_type": "execute_result"
    }
   ],
   "source": [
    "f"
   ]
  },
  {
   "cell_type": "markdown",
   "id": "c1c4537e",
   "metadata": {},
   "source": [
    "# copy()\n",
    "### it returns a copy of an array."
   ]
  },
  {
   "cell_type": "code",
   "execution_count": 21,
   "id": "4c5bd78a",
   "metadata": {},
   "outputs": [],
   "source": [
    "c = f.copy() # create a copy of a using copy method"
   ]
  },
  {
   "cell_type": "code",
   "execution_count": 22,
   "id": "90616c6a",
   "metadata": {},
   "outputs": [
    {
     "data": {
      "text/plain": [
       "array([[ 1,  2,  3,  4],\n",
       "       [ 5,  6,  7,  8],\n",
       "       [ 9, 10, 11, 12],\n",
       "       [13, 14, 15, 16],\n",
       "       [17, 18, 19, 20]])"
      ]
     },
     "execution_count": 22,
     "metadata": {},
     "output_type": "execute_result"
    }
   ],
   "source": [
    "c"
   ]
  },
  {
   "cell_type": "code",
   "execution_count": 23,
   "id": "05e7f169",
   "metadata": {},
   "outputs": [],
   "source": [
    "# if we make any changes in any one array , it will not affected to other.\n",
    "c[0] = 1000"
   ]
  },
  {
   "cell_type": "code",
   "execution_count": 24,
   "id": "06a45d09",
   "metadata": {},
   "outputs": [
    {
     "data": {
      "text/plain": [
       "array([[1000, 1000, 1000, 1000],\n",
       "       [   5,    6,    7,    8],\n",
       "       [   9,   10,   11,   12],\n",
       "       [  13,   14,   15,   16],\n",
       "       [  17,   18,   19,   20]])"
      ]
     },
     "execution_count": 24,
     "metadata": {},
     "output_type": "execute_result"
    }
   ],
   "source": [
    "c"
   ]
  },
  {
   "cell_type": "code",
   "execution_count": 25,
   "id": "7c133943",
   "metadata": {},
   "outputs": [
    {
     "data": {
      "text/plain": [
       "array([[ 1,  2,  3,  4],\n",
       "       [ 5,  6,  7,  8],\n",
       "       [ 9, 10, 11, 12],\n",
       "       [13, 14, 15, 16],\n",
       "       [17, 18, 19, 20]])"
      ]
     },
     "execution_count": 25,
     "metadata": {},
     "output_type": "execute_result"
    }
   ],
   "source": [
    "f"
   ]
  },
  {
   "cell_type": "code",
   "execution_count": 26,
   "id": "d387c7da",
   "metadata": {},
   "outputs": [],
   "source": [
    "b = f # create a copy of f using \"=\" operator. if we make any changes in one , it will affect another.\n"
   ]
  },
  {
   "cell_type": "code",
   "execution_count": 27,
   "id": "6acd4311",
   "metadata": {},
   "outputs": [
    {
     "data": {
      "text/plain": [
       "array([[ 1,  2,  3,  4],\n",
       "       [ 5,  6,  7,  8],\n",
       "       [ 9, 10, 11, 12],\n",
       "       [13, 14, 15, 16],\n",
       "       [17, 18, 19, 20]])"
      ]
     },
     "execution_count": 27,
     "metadata": {},
     "output_type": "execute_result"
    }
   ],
   "source": [
    "b"
   ]
  },
  {
   "cell_type": "code",
   "execution_count": 28,
   "id": "7a3f6218",
   "metadata": {},
   "outputs": [],
   "source": [
    "b[0] = 200"
   ]
  },
  {
   "cell_type": "code",
   "execution_count": 29,
   "id": "f6cf79fb",
   "metadata": {},
   "outputs": [
    {
     "data": {
      "text/plain": [
       "array([[200, 200, 200, 200],\n",
       "       [  5,   6,   7,   8],\n",
       "       [  9,  10,  11,  12],\n",
       "       [ 13,  14,  15,  16],\n",
       "       [ 17,  18,  19,  20]])"
      ]
     },
     "execution_count": 29,
     "metadata": {},
     "output_type": "execute_result"
    }
   ],
   "source": [
    "b"
   ]
  },
  {
   "cell_type": "markdown",
   "id": "fc03226d",
   "metadata": {},
   "source": [
    "# view()\n",
    "### it is just an view of an array."
   ]
  },
  {
   "cell_type": "code",
   "execution_count": null,
   "id": "6bf0e15e",
   "metadata": {},
   "outputs": [],
   "source": []
  },
  {
   "cell_type": "code",
   "execution_count": 30,
   "id": "0de8a28b",
   "metadata": {},
   "outputs": [
    {
     "data": {
      "text/plain": [
       "array([[200, 200, 200, 200],\n",
       "       [  5,   6,   7,   8],\n",
       "       [  9,  10,  11,  12],\n",
       "       [ 13,  14,  15,  16],\n",
       "       [ 17,  18,  19,  20]])"
      ]
     },
     "execution_count": 30,
     "metadata": {},
     "output_type": "execute_result"
    }
   ],
   "source": [
    "f"
   ]
  },
  {
   "cell_type": "code",
   "execution_count": 31,
   "id": "f441fadb",
   "metadata": {},
   "outputs": [],
   "source": [
    "z = f.view()"
   ]
  },
  {
   "cell_type": "code",
   "execution_count": 32,
   "id": "ead0fa29",
   "metadata": {},
   "outputs": [
    {
     "data": {
      "text/plain": [
       "array([[200, 200, 200, 200],\n",
       "       [  5,   6,   7,   8],\n",
       "       [  9,  10,  11,  12],\n",
       "       [ 13,  14,  15,  16],\n",
       "       [ 17,  18,  19,  20]])"
      ]
     },
     "execution_count": 32,
     "metadata": {},
     "output_type": "execute_result"
    }
   ],
   "source": [
    "z"
   ]
  },
  {
   "cell_type": "code",
   "execution_count": 33,
   "id": "73e93137",
   "metadata": {},
   "outputs": [],
   "source": [
    "z[0] = 1 # if we make any changes in z , f will also change. "
   ]
  },
  {
   "cell_type": "code",
   "execution_count": 34,
   "id": "91e9a869",
   "metadata": {},
   "outputs": [
    {
     "data": {
      "text/plain": [
       "array([[ 1,  1,  1,  1],\n",
       "       [ 5,  6,  7,  8],\n",
       "       [ 9, 10, 11, 12],\n",
       "       [13, 14, 15, 16],\n",
       "       [17, 18, 19, 20]])"
      ]
     },
     "execution_count": 34,
     "metadata": {},
     "output_type": "execute_result"
    }
   ],
   "source": [
    "z"
   ]
  },
  {
   "cell_type": "code",
   "execution_count": 35,
   "id": "f2bbecfe",
   "metadata": {},
   "outputs": [
    {
     "data": {
      "text/plain": [
       "array([[ 1,  1,  1,  1],\n",
       "       [ 5,  6,  7,  8],\n",
       "       [ 9, 10, 11, 12],\n",
       "       [13, 14, 15, 16],\n",
       "       [17, 18, 19, 20]])"
      ]
     },
     "execution_count": 35,
     "metadata": {},
     "output_type": "execute_result"
    }
   ],
   "source": [
    "f"
   ]
  },
  {
   "cell_type": "code",
   "execution_count": null,
   "id": "a51d6689",
   "metadata": {},
   "outputs": [],
   "source": []
  },
  {
   "cell_type": "markdown",
   "id": "196c4999",
   "metadata": {},
   "source": [
    "# diffrence between copy() and view()\n",
    "### The main difference between a copy and a view of an array is that the copy is a new array, and the view is just a view of the original array.\n",
    "\n",
    "### The copy owns the data and any changes made to the copy will not affect original array, and any changes made to the original array will not affect the copy.\n",
    "\n",
    "### The view does not own the data and any changes made to the view will affect the original array, and any changes made to the original array will affect the view."
   ]
  },
  {
   "cell_type": "code",
   "execution_count": null,
   "id": "374f67aa",
   "metadata": {},
   "outputs": [],
   "source": []
  }
 ],
 "metadata": {
  "kernelspec": {
   "display_name": "Python 3 (ipykernel)",
   "language": "python",
   "name": "python3"
  },
  "language_info": {
   "codemirror_mode": {
    "name": "ipython",
    "version": 3
   },
   "file_extension": ".py",
   "mimetype": "text/x-python",
   "name": "python",
   "nbconvert_exporter": "python",
   "pygments_lexer": "ipython3",
   "version": "3.9.7"
  }
 },
 "nbformat": 4,
 "nbformat_minor": 5
}
